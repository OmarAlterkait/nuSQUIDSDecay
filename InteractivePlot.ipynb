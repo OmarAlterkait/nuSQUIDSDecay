{
 "cells": [
  {
   "cell_type": "code",
   "execution_count": 5,
   "metadata": {},
   "outputs": [],
   "source": [
    "%matplotlib widget\n",
    "import ipywidgets as widgets\n",
    "import numpy as np\n",
    "import matplotlib.pyplot as plt\n",
    "import matplotlib as mpl\n",
    "import copy"
   ]
  },
  {
   "cell_type": "code",
   "execution_count": 6,
   "metadata": {},
   "outputs": [],
   "source": [
    "# Set energy, mass, theta, and tau ranges\n",
    "\n",
    "Estep = 5.000e+07\n",
    "Emin = 2.500e+07\n",
    "Emax = 6.475e+09\n",
    "Erange = np.arange(Emin,Emax+Estep,Estep)\n",
    "\n",
    "mstep = 0.1\n",
    "mmin = 0\n",
    "mmax = 5.00\n",
    "mrange = np.arange(mmin,mmax+mstep,mstep)\n",
    "\n",
    "tstep = 0.05\n",
    "tmin = 0.0\n",
    "tmax = 1.0\n",
    "trange = np.arange(tmin,tmax+tstep,tstep)\n",
    "\n",
    "cstep = 0.25\n",
    "cmin = 0\n",
    "cmax = 9.5\n",
    "crange = np.arange(cmin,cmax+cstep,cstep)"
   ]
  },
  {
   "cell_type": "code",
   "execution_count": 18,
   "metadata": {},
   "outputs": [],
   "source": [
    "with open(\"fluxratios.npy\", 'rb') as f:\n",
    "    fluxratios = np.load(f).astype(\"float64\")"
   ]
  },
  {
   "cell_type": "code",
   "execution_count": 19,
   "metadata": {},
   "outputs": [],
   "source": [
    "def plotratio(fluxratios, xaxis, yaxis, indices):\n",
    "    '''\n",
    "    Function to plot a single instance given flux ratios, xaxis, yaxis, and indices for other values\n",
    "    '''\n",
    "    fluxratios = np.take(fluxratios, indices[4], axis = 4) # Choose a particle type\n",
    "    T = [0,1,2,3] \n",
    "    if xaxis == yaxis: # Can't plot same axis\n",
    "        print(\"Choose different variables to plot\")\n",
    "        return 0\n",
    "    if xaxis>yaxis: # ensure xaxis is smaller for consistancy \n",
    "        xaxis, yaxis = yaxis, xaxis\n",
    "    T.remove(xaxis) \n",
    "    T.remove(yaxis) # T is axes to remove\n",
    "    r1, r2 = T\n",
    "    fluxratios = np.take(fluxratios, indices[r1], axis = r1) # high dimensional slice out other axes\n",
    "    fluxratios = np.take(fluxratios, indices[r2], axis = r2-1)\n",
    "    minrange = (mmin, tmin, cmin, Emin)\n",
    "    maxrange = (mmax, tmax, cmax, Emax)\n",
    "    part_label = [\"nu_e\",\"anti nu_e\",\"nu_mu\",\"anti nu_mu\"]\n",
    "    labels = [\"mass (eV)\", \"theta_24\", \"tau ($eV^{-1}$)\", \"energy (eV)\"]\n",
    "    plt.clf() # clear figure\n",
    "    extent = minrange[xaxis], maxrange[xaxis], minrange[yaxis], maxrange[yaxis] # range of image\n",
    "    cmap = copy.copy(mpl.cm.get_cmap(\"viridis\")) \n",
    "    cmap.set_bad(color='k') # set color of nan to black\n",
    "    im = plt.imshow(fluxratios.T, cmap = cmap, extent = extent, aspect = \"auto\", origin='lower', vmin = 0.0)\n",
    "    plt.xlabel(labels[xaxis])\n",
    "    plt.ylabel(labels[yaxis])\n",
    "    plt.title(part_label[indices[4]]+\" muon neutrino flux ratios\")\n",
    "    cb = plt.colorbar()\n",
    "    #fig.savefig(f'figures/fluxratio_E{inpenergy[enindex]:.2e}.png',dpi=100, bbox_inches=\"tight\")\n",
    "    plt.show()\n",
    "\n",
    "#plotratio(fluxratiosmod, 0, 3, [1, 20, 1, 20, 2])"
   ]
  },
  {
   "cell_type": "code",
   "execution_count": 20,
   "metadata": {},
   "outputs": [
    {
     "data": {
      "application/vnd.jupyter.widget-view+json": {
       "model_id": "5d22887b9fe241c7b6613c773e46cb1f",
       "version_major": 2,
       "version_minor": 0
      },
      "text/plain": [
       "interactive(children=(Dropdown(description='variable1', options=(('mass of sterile (eV)', 0), ('theta_24', 1),…"
      ]
     },
     "metadata": {},
     "output_type": "display_data"
    }
   ],
   "source": [
    "# Set up interactive plots \n",
    "plt.ion() # Turn on interactive mode\n",
    "fig, ax = plt.subplots()\n",
    "\n",
    "# Assign interactive variables\n",
    "@widgets.interact(variable1 = [(\"mass of sterile (eV)\",0), (\"theta_24\",1), (\"coupling; tau (eV^-1)\",2), (\"energy (eV)\",3)],\n",
    "                  variable2 = [(\"mass of sterile (eV)\",0), (\"theta_24\",1), (\"coupling; tau (eV^-1)\",2), (\"energy (eV)\",3)],\n",
    "                  mass=widgets.FloatSlider(min=mmin, max=mmax, step=mstep),\n",
    "                  theta=widgets.FloatSlider(min=tmin, max=tmax, step=tstep),\n",
    "                  coupling=widgets.FloatSlider(min=cmin, max=cmax, step=cstep),\n",
    "                  Energy=widgets.IntSlider(min=Emin, max=Emax, step=Estep),\n",
    "                  ptype=[('nu_e',0),('anti_nu_e',1),('nu_mu',2),('anti_nu_mu',3)])\n",
    "def update(variable1 = 0, variable2 = 2, mass = 1, theta = 1, coupling = 1, Energy = 10,ptype = 2):\n",
    "    \"\"\"Remove old lines from plot and plot new one\"\"\"\n",
    "    mindex = np.where(mrange.round(3)==mass)[0][0] # change from values to indices\n",
    "    tindex = np.where(trange.round(3)==theta)[0][0]\n",
    "    cindex = np.where(crange.round(3)==coupling)[0][0]\n",
    "    Eindex = np.where(Erange==Energy)[0][0]\n",
    "    indices = [mindex, tindex, cindex, Eindex, ptype]\n",
    "    plotratio(fluxratios, variable1, variable2, indices) # Plot functions"
   ]
  },
  {
   "cell_type": "code",
   "execution_count": 13,
   "metadata": {},
   "outputs": [],
   "source": [
    "#\n",
    "\n",
    "\n",
    "\n",
    "\n",
    "\n",
    "\n",
    "\n",
    "\n",
    "\n",
    "\n",
    "\n",
    "\n",
    "\n",
    "\n",
    "\n",
    "\n",
    "\n",
    "\n",
    "\n",
    "\n",
    "\n",
    "#"
   ]
  },
  {
   "cell_type": "code",
   "execution_count": null,
   "metadata": {},
   "outputs": [],
   "source": []
  }
 ],
 "metadata": {
  "kernelspec": {
   "display_name": "Python 3",
   "language": "python",
   "name": "python3"
  },
  "language_info": {
   "codemirror_mode": {
    "name": "ipython",
    "version": 3
   },
   "file_extension": ".py",
   "mimetype": "text/x-python",
   "name": "python",
   "nbconvert_exporter": "python",
   "pygments_lexer": "ipython3",
   "version": "3.6.9"
  }
 },
 "nbformat": 4,
 "nbformat_minor": 2
}
